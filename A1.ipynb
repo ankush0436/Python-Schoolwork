{
 "cells": [
  {
   "cell_type": "markdown",
   "metadata": {},
   "source": [
    "## Start your script\n",
    "\n",
    "Import libraries and fill the empty `base` string with the filepath for your data. Don't forget that Python will require you to double your backslashes -- instead of typing '\\\\' between folder names, type '\\\\\\\\'."
   ]
  },
  {
   "cell_type": "code",
   "execution_count": 12,
   "metadata": {},
   "outputs": [
    {
     "name": "stdout",
     "output_type": "stream",
     "text": [
      "<class 'pandas.core.frame.DataFrame'>\n",
      "RangeIndex: 4410 entries, 0 to 4409\n",
      "Data columns (total 26 columns):\n",
      " #   Column                   Non-Null Count  Dtype \n",
      "---  ------                   --------------  ----- \n",
      " 0   Age                      4410 non-null   int64 \n",
      " 1   Attrition                4410 non-null   object\n",
      " 2   BusinessTravel           4410 non-null   object\n",
      " 3   Department               4410 non-null   object\n",
      " 4   DistanceFromHome         4410 non-null   int64 \n",
      " 5   Education                4410 non-null   int64 \n",
      " 6   EducationField           4410 non-null   object\n",
      " 7   EmployeeID               4410 non-null   int64 \n",
      " 8   EnvironmentSatisfaction  4410 non-null   int64 \n",
      " 9   Gender                   4410 non-null   object\n",
      " 10  JobInvolvement           4410 non-null   int64 \n",
      " 11  JobLevel                 4410 non-null   int64 \n",
      " 12  JobRole                  4410 non-null   object\n",
      " 13  JobSatisfaction          4410 non-null   int64 \n",
      " 14  MaritalStatus            4410 non-null   object\n",
      " 15  MonthlyIncome            4410 non-null   int64 \n",
      " 16  NumCompaniesWorked       4410 non-null   int64 \n",
      " 17  PercentSalaryHike        4410 non-null   int64 \n",
      " 18  PerformanceRating        4410 non-null   int64 \n",
      " 19  StockOptionLevel         4410 non-null   int64 \n",
      " 20  TotalWorkingYears        4410 non-null   int64 \n",
      " 21  TrainingTimesLastYear    4410 non-null   int64 \n",
      " 22  WorkLifeBalance          4410 non-null   int64 \n",
      " 23  YearsAtCompany           4410 non-null   int64 \n",
      " 24  YearsSinceLastPromotion  4410 non-null   int64 \n",
      " 25  YearsWithCurrManager     4410 non-null   int64 \n",
      "dtypes: int64(19), object(7)\n",
      "memory usage: 895.9+ KB\n"
     ]
    },
    {
     "data": {
      "text/html": [
       "<div>\n",
       "<style scoped>\n",
       "    .dataframe tbody tr th:only-of-type {\n",
       "        vertical-align: middle;\n",
       "    }\n",
       "\n",
       "    .dataframe tbody tr th {\n",
       "        vertical-align: top;\n",
       "    }\n",
       "\n",
       "    .dataframe thead th {\n",
       "        text-align: right;\n",
       "    }\n",
       "</style>\n",
       "<table border=\"1\" class=\"dataframe\">\n",
       "  <thead>\n",
       "    <tr style=\"text-align: right;\">\n",
       "      <th></th>\n",
       "      <th>Age</th>\n",
       "      <th>DistanceFromHome</th>\n",
       "      <th>Education</th>\n",
       "      <th>EmployeeID</th>\n",
       "      <th>EnvironmentSatisfaction</th>\n",
       "      <th>JobInvolvement</th>\n",
       "      <th>JobLevel</th>\n",
       "      <th>JobSatisfaction</th>\n",
       "      <th>MonthlyIncome</th>\n",
       "      <th>NumCompaniesWorked</th>\n",
       "      <th>PercentSalaryHike</th>\n",
       "      <th>PerformanceRating</th>\n",
       "      <th>StockOptionLevel</th>\n",
       "      <th>TotalWorkingYears</th>\n",
       "      <th>TrainingTimesLastYear</th>\n",
       "      <th>WorkLifeBalance</th>\n",
       "      <th>YearsAtCompany</th>\n",
       "      <th>YearsSinceLastPromotion</th>\n",
       "      <th>YearsWithCurrManager</th>\n",
       "    </tr>\n",
       "  </thead>\n",
       "  <tbody>\n",
       "    <tr>\n",
       "      <th>count</th>\n",
       "      <td>4410.000000</td>\n",
       "      <td>4410.000000</td>\n",
       "      <td>4410.000000</td>\n",
       "      <td>4410.000000</td>\n",
       "      <td>4410.000000</td>\n",
       "      <td>4410.000000</td>\n",
       "      <td>4410.000000</td>\n",
       "      <td>4410.000000</td>\n",
       "      <td>4410.000000</td>\n",
       "      <td>4410.000000</td>\n",
       "      <td>4410.000000</td>\n",
       "      <td>4410.000000</td>\n",
       "      <td>4410.000000</td>\n",
       "      <td>4410.000000</td>\n",
       "      <td>4410.000000</td>\n",
       "      <td>4410.000000</td>\n",
       "      <td>4410.000000</td>\n",
       "      <td>4410.000000</td>\n",
       "      <td>4410.000000</td>\n",
       "    </tr>\n",
       "    <tr>\n",
       "      <th>mean</th>\n",
       "      <td>36.923810</td>\n",
       "      <td>9.192517</td>\n",
       "      <td>2.912925</td>\n",
       "      <td>2205.500000</td>\n",
       "      <td>2.725170</td>\n",
       "      <td>2.729932</td>\n",
       "      <td>2.063946</td>\n",
       "      <td>2.729478</td>\n",
       "      <td>65029.312925</td>\n",
       "      <td>2.696145</td>\n",
       "      <td>15.209524</td>\n",
       "      <td>3.153741</td>\n",
       "      <td>0.793878</td>\n",
       "      <td>11.279365</td>\n",
       "      <td>2.799320</td>\n",
       "      <td>2.763492</td>\n",
       "      <td>7.008163</td>\n",
       "      <td>2.187755</td>\n",
       "      <td>4.123129</td>\n",
       "    </tr>\n",
       "    <tr>\n",
       "      <th>std</th>\n",
       "      <td>9.133301</td>\n",
       "      <td>8.105026</td>\n",
       "      <td>1.023933</td>\n",
       "      <td>1273.201673</td>\n",
       "      <td>1.089852</td>\n",
       "      <td>0.711400</td>\n",
       "      <td>1.106689</td>\n",
       "      <td>1.098904</td>\n",
       "      <td>47068.888559</td>\n",
       "      <td>2.493577</td>\n",
       "      <td>3.659108</td>\n",
       "      <td>0.360742</td>\n",
       "      <td>0.851883</td>\n",
       "      <td>7.774286</td>\n",
       "      <td>1.288978</td>\n",
       "      <td>0.703541</td>\n",
       "      <td>6.125135</td>\n",
       "      <td>3.221699</td>\n",
       "      <td>3.567327</td>\n",
       "    </tr>\n",
       "    <tr>\n",
       "      <th>min</th>\n",
       "      <td>18.000000</td>\n",
       "      <td>1.000000</td>\n",
       "      <td>1.000000</td>\n",
       "      <td>1.000000</td>\n",
       "      <td>1.000000</td>\n",
       "      <td>1.000000</td>\n",
       "      <td>1.000000</td>\n",
       "      <td>1.000000</td>\n",
       "      <td>10090.000000</td>\n",
       "      <td>0.000000</td>\n",
       "      <td>11.000000</td>\n",
       "      <td>3.000000</td>\n",
       "      <td>0.000000</td>\n",
       "      <td>0.000000</td>\n",
       "      <td>0.000000</td>\n",
       "      <td>1.000000</td>\n",
       "      <td>0.000000</td>\n",
       "      <td>0.000000</td>\n",
       "      <td>0.000000</td>\n",
       "    </tr>\n",
       "    <tr>\n",
       "      <th>25%</th>\n",
       "      <td>30.000000</td>\n",
       "      <td>2.000000</td>\n",
       "      <td>2.000000</td>\n",
       "      <td>1103.250000</td>\n",
       "      <td>2.000000</td>\n",
       "      <td>2.000000</td>\n",
       "      <td>1.000000</td>\n",
       "      <td>2.000000</td>\n",
       "      <td>29110.000000</td>\n",
       "      <td>1.000000</td>\n",
       "      <td>12.000000</td>\n",
       "      <td>3.000000</td>\n",
       "      <td>0.000000</td>\n",
       "      <td>6.000000</td>\n",
       "      <td>2.000000</td>\n",
       "      <td>2.000000</td>\n",
       "      <td>3.000000</td>\n",
       "      <td>0.000000</td>\n",
       "      <td>2.000000</td>\n",
       "    </tr>\n",
       "    <tr>\n",
       "      <th>50%</th>\n",
       "      <td>36.000000</td>\n",
       "      <td>7.000000</td>\n",
       "      <td>3.000000</td>\n",
       "      <td>2205.500000</td>\n",
       "      <td>3.000000</td>\n",
       "      <td>3.000000</td>\n",
       "      <td>2.000000</td>\n",
       "      <td>3.000000</td>\n",
       "      <td>49190.000000</td>\n",
       "      <td>2.000000</td>\n",
       "      <td>14.000000</td>\n",
       "      <td>3.000000</td>\n",
       "      <td>1.000000</td>\n",
       "      <td>10.000000</td>\n",
       "      <td>3.000000</td>\n",
       "      <td>3.000000</td>\n",
       "      <td>5.000000</td>\n",
       "      <td>1.000000</td>\n",
       "      <td>3.000000</td>\n",
       "    </tr>\n",
       "    <tr>\n",
       "      <th>75%</th>\n",
       "      <td>43.000000</td>\n",
       "      <td>14.000000</td>\n",
       "      <td>4.000000</td>\n",
       "      <td>3307.750000</td>\n",
       "      <td>4.000000</td>\n",
       "      <td>3.000000</td>\n",
       "      <td>3.000000</td>\n",
       "      <td>4.000000</td>\n",
       "      <td>83800.000000</td>\n",
       "      <td>4.000000</td>\n",
       "      <td>18.000000</td>\n",
       "      <td>3.000000</td>\n",
       "      <td>1.000000</td>\n",
       "      <td>15.000000</td>\n",
       "      <td>3.000000</td>\n",
       "      <td>3.000000</td>\n",
       "      <td>9.000000</td>\n",
       "      <td>3.000000</td>\n",
       "      <td>7.000000</td>\n",
       "    </tr>\n",
       "    <tr>\n",
       "      <th>max</th>\n",
       "      <td>60.000000</td>\n",
       "      <td>29.000000</td>\n",
       "      <td>5.000000</td>\n",
       "      <td>4410.000000</td>\n",
       "      <td>4.000000</td>\n",
       "      <td>4.000000</td>\n",
       "      <td>5.000000</td>\n",
       "      <td>4.000000</td>\n",
       "      <td>199990.000000</td>\n",
       "      <td>9.000000</td>\n",
       "      <td>25.000000</td>\n",
       "      <td>4.000000</td>\n",
       "      <td>3.000000</td>\n",
       "      <td>40.000000</td>\n",
       "      <td>6.000000</td>\n",
       "      <td>4.000000</td>\n",
       "      <td>40.000000</td>\n",
       "      <td>15.000000</td>\n",
       "      <td>17.000000</td>\n",
       "    </tr>\n",
       "  </tbody>\n",
       "</table>\n",
       "</div>"
      ],
      "text/plain": [
       "               Age  DistanceFromHome    Education   EmployeeID  \\\n",
       "count  4410.000000       4410.000000  4410.000000  4410.000000   \n",
       "mean     36.923810          9.192517     2.912925  2205.500000   \n",
       "std       9.133301          8.105026     1.023933  1273.201673   \n",
       "min      18.000000          1.000000     1.000000     1.000000   \n",
       "25%      30.000000          2.000000     2.000000  1103.250000   \n",
       "50%      36.000000          7.000000     3.000000  2205.500000   \n",
       "75%      43.000000         14.000000     4.000000  3307.750000   \n",
       "max      60.000000         29.000000     5.000000  4410.000000   \n",
       "\n",
       "       EnvironmentSatisfaction  JobInvolvement     JobLevel  JobSatisfaction  \\\n",
       "count              4410.000000     4410.000000  4410.000000      4410.000000   \n",
       "mean                  2.725170        2.729932     2.063946         2.729478   \n",
       "std                   1.089852        0.711400     1.106689         1.098904   \n",
       "min                   1.000000        1.000000     1.000000         1.000000   \n",
       "25%                   2.000000        2.000000     1.000000         2.000000   \n",
       "50%                   3.000000        3.000000     2.000000         3.000000   \n",
       "75%                   4.000000        3.000000     3.000000         4.000000   \n",
       "max                   4.000000        4.000000     5.000000         4.000000   \n",
       "\n",
       "       MonthlyIncome  NumCompaniesWorked  PercentSalaryHike  \\\n",
       "count    4410.000000         4410.000000        4410.000000   \n",
       "mean    65029.312925            2.696145          15.209524   \n",
       "std     47068.888559            2.493577           3.659108   \n",
       "min     10090.000000            0.000000          11.000000   \n",
       "25%     29110.000000            1.000000          12.000000   \n",
       "50%     49190.000000            2.000000          14.000000   \n",
       "75%     83800.000000            4.000000          18.000000   \n",
       "max    199990.000000            9.000000          25.000000   \n",
       "\n",
       "       PerformanceRating  StockOptionLevel  TotalWorkingYears  \\\n",
       "count        4410.000000       4410.000000        4410.000000   \n",
       "mean            3.153741          0.793878          11.279365   \n",
       "std             0.360742          0.851883           7.774286   \n",
       "min             3.000000          0.000000           0.000000   \n",
       "25%             3.000000          0.000000           6.000000   \n",
       "50%             3.000000          1.000000          10.000000   \n",
       "75%             3.000000          1.000000          15.000000   \n",
       "max             4.000000          3.000000          40.000000   \n",
       "\n",
       "       TrainingTimesLastYear  WorkLifeBalance  YearsAtCompany  \\\n",
       "count            4410.000000      4410.000000     4410.000000   \n",
       "mean                2.799320         2.763492        7.008163   \n",
       "std                 1.288978         0.703541        6.125135   \n",
       "min                 0.000000         1.000000        0.000000   \n",
       "25%                 2.000000         2.000000        3.000000   \n",
       "50%                 3.000000         3.000000        5.000000   \n",
       "75%                 3.000000         3.000000        9.000000   \n",
       "max                 6.000000         4.000000       40.000000   \n",
       "\n",
       "       YearsSinceLastPromotion  YearsWithCurrManager  \n",
       "count              4410.000000           4410.000000  \n",
       "mean                  2.187755              4.123129  \n",
       "std                   3.221699              3.567327  \n",
       "min                   0.000000              0.000000  \n",
       "25%                   0.000000              2.000000  \n",
       "50%                   1.000000              3.000000  \n",
       "75%                   3.000000              7.000000  \n",
       "max                  15.000000             17.000000  "
      ]
     },
     "execution_count": 12,
     "metadata": {},
     "output_type": "execute_result"
    }
   ],
   "source": [
    "\n",
    "import pandas as pd\n",
    "import numpy as np\n",
    "import matplotlib.pyplot as plt\n",
    "import scipy.stats as stats\n",
    "import seaborn as sns\n",
    "\n",
    "df = pd.read_csv('hr_data(1).csv')\n",
    "\n",
    "df.head()\n",
    "\n",
    "df.info()\n",
    "\n",
    "df.describe()\n"
   ]
  },
  {
   "cell_type": "markdown",
   "metadata": {},
   "source": [
    "## 1. How many rows and columns does the dataframe have?"
   ]
  },
  {
   "cell_type": "code",
   "execution_count": 10,
   "metadata": {},
   "outputs": [
    {
     "name": "stdout",
     "output_type": "stream",
     "text": [
      "It has a total of 26 columns and a total of 4410 rows\n"
     ]
    }
   ],
   "source": [
    "print('It has a total of 26 columns and a total of 4410 rows')"
   ]
  },
  {
   "cell_type": "markdown",
   "metadata": {},
   "source": [
    "## 2. How many missing values are in the dataset?"
   ]
  },
  {
   "cell_type": "code",
   "execution_count": 11,
   "metadata": {},
   "outputs": [
    {
     "name": "stdout",
     "output_type": "stream",
     "text": [
      "By looking at the df.info i do see there are no missing value as all the records are 4410\n"
     ]
    }
   ],
   "source": [
    "print('By looking at the df.info i do see there are no missing value as all the records are 4410')"
   ]
  },
  {
   "cell_type": "markdown",
   "metadata": {},
   "source": [
    "## 3. Find the min, max, median, and mean of the `Age` column."
   ]
  },
  {
   "cell_type": "code",
   "execution_count": 14,
   "metadata": {},
   "outputs": [
    {
     "name": "stdout",
     "output_type": "stream",
     "text": [
      "Mean = 36.92, min = 18.00, max = 60.00, median = 36.00\n"
     ]
    }
   ],
   "source": [
    "df.describe()\n",
    "print('Mean = 36.92, min = 18.00, max = 60.00, median = 36.00')"
   ]
  },
  {
   "cell_type": "markdown",
   "metadata": {},
   "source": [
    "## 4. How many employees are in each `Department` at this company?"
   ]
  },
  {
   "cell_type": "code",
   "execution_count": 17,
   "metadata": {},
   "outputs": [
    {
     "name": "stdout",
     "output_type": "stream",
     "text": [
      " R&D = 2883, Sales = 1338, HR= 189\n"
     ]
    }
   ],
   "source": [
    "df['Department'].nunique()\n",
    "df['Department'].value_counts()\n",
    "print(' R&D = 2883, Sales = 1338, HR= 189')"
   ]
  },
  {
   "cell_type": "markdown",
   "metadata": {},
   "source": [
    "## 5. What is the average number of `YearsAtCompany` for men? What is it for women?"
   ]
  },
  {
   "cell_type": "code",
   "execution_count": 21,
   "metadata": {},
   "outputs": [
    {
     "name": "stdout",
     "output_type": "stream",
     "text": [
      " Avg. Years at company for men: 6.921768707482993\n",
      " Avg. Years at company for women: 7.137755102040816\n"
     ]
    }
   ],
   "source": [
    "print(' Avg. Years at company for men:', df[df['Gender'] == 'Male']['YearsAtCompany'].mean())\n",
    "print(' Avg. Years at company for women:', df[df['Gender'] == 'Female']['YearsAtCompany'].mean())\n"
   ]
  },
  {
   "cell_type": "markdown",
   "metadata": {},
   "source": [
    "## 6. Plot the number of employees in each `EducationField` using Seaborn."
   ]
  },
  {
   "cell_type": "code",
   "execution_count": 24,
   "metadata": {},
   "outputs": [
    {
     "data": {
      "image/png": "[encoded data removed]",
      "text/plain": [
       "<Figure size 432x288 with 1 Axes>"
      ]
     },
     "metadata": {
      "needs_background": "light"
     },
     "output_type": "display_data"
    }
   ],
   "source": [
    "df['EducationField'].nunique()\n",
    "g = sns.countplot(y='EducationField', data=df, palette='Blues',\n",
    "                  order=['Human Resources', 'Life Sciences', 'Medical', 'Marketing', 'Technical Degree', 'Others'])\n",
    "g.set(xlabel='Count', ylabel='EducationField')\n",
    "g.set_title('Count of Employees by EducationField')\n",
    "plt.show()"
   ]
  },
  {
   "cell_type": "markdown",
   "metadata": {},
   "source": [
    "## 7. Plot `MonthlyIncome` by `Gender`. Does there appear to be a difference between the two?"
   ]
  },
  {
   "cell_type": "code",
   "execution_count": 25,
   "metadata": {},
   "outputs": [
    {
     "data": {
      "image/png": "[encoded data removed]",
      "text/plain": [
       "<Figure size 432x288 with 1 Axes>"
      ]
     },
     "metadata": {
      "needs_background": "light"
     },
     "output_type": "display_data"
    }
   ],
   "source": [
    "g = sns.boxplot(x='Gender', y='MonthlyIncome', data=df, hue='Gender', palette='Pastel1')\n",
    "g.set(xlabel='Gender', ylabel='MonthlyIncome')\n",
    "g.set_title('Monthly Income by gender')\n",
    "plt.show()"
   ]
  },
  {
   "cell_type": "markdown",
   "metadata": {},
   "source": [
    "## 8. Which `JobRole` has the most `BusinessTravel`? Which has the least?"
   ]
  },
  {
   "cell_type": "code",
   "execution_count": null,
   "metadata": {},
   "outputs": [],
   "source": [
    "g = sns.countplot(y='RaceDesc', data=df, palette='Blues',\n",
    "                  order=['White', 'Black or African American', 'Asian', 'Two or more races', 'Hispanic', 'American Indian or Alaska Native'])\n",
    "g.set(xlabel='Count', ylabel='Race')\n",
    "g.set_title('Count of Employees by Race')\n",
    "plt.show()"
   ]
  },
  {
   "cell_type": "markdown",
   "metadata": {},
   "source": [
    "## 9. What is the median `DistanceFromHome` for those who left the company? Is it significantly different (statistically) from the median for those who stayed?"
   ]
  },
  {
   "cell_type": "code",
   "execution_count": null,
   "metadata": {},
   "outputs": [],
   "source": []
  },
  {
   "cell_type": "markdown",
   "metadata": {},
   "source": [
    "## 10. What are the `EmployeeID`s and `JobRole`s of the employees with the longest tenure at the company?"
   ]
  },
  {
   "cell_type": "code",
   "execution_count": null,
   "metadata": {},
   "outputs": [],
   "source": []
  }
 ],
 "metadata": {
  "kernelspec": {
   "display_name": "Python 3",
   "language": "python",
   "name": "python3"
  },
  "language_info": {
   "codemirror_mode": {
    "name": "ipython",
    "version": 3
   },
   "file_extension": ".py",
   "mimetype": "text/x-python",
   "name": "python",
   "nbconvert_exporter": "python",
   "pygments_lexer": "ipython3",
   "version": "3.8.5"
  }
 },
 "nbformat": 4,
 "nbformat_minor": 2
}
